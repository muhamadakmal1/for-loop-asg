{
  "nbformat": 4,
  "nbformat_minor": 0,
  "metadata": {
    "colab": {
      "provenance": []
    },
    "kernelspec": {
      "name": "python3",
      "display_name": "Python 3"
    },
    "language_info": {
      "name": "python"
    }
  },
  "cells": [
    {
      "cell_type": "markdown",
      "source": [
        "# Basic Level"
      ],
      "metadata": {
        "id": "SkxkDd_sxSwJ"
      }
    },
    {
      "cell_type": "markdown",
      "source": [
        "**1. Write a Python program to print the numbers from 1 to 10 using a `for` loop.**"
      ],
      "metadata": {
        "id": "fVGlU-h1xgIL"
      }
    },
    {
      "cell_type": "code",
      "execution_count": 4,
      "metadata": {
        "colab": {
          "base_uri": "https://localhost:8080/"
        },
        "id": "TesFd0s3xIsT",
        "outputId": "3cb62592-780b-4080-8410-4f25a78c005e"
      },
      "outputs": [
        {
          "output_type": "stream",
          "name": "stdout",
          "text": [
            "1\n",
            "2\n",
            "3\n",
            "4\n",
            "5\n",
            "6\n",
            "7\n",
            "8\n",
            "9\n",
            "10\n"
          ]
        }
      ],
      "source": [
        "for i in range(1, 11):\n",
        "    print(i)\n"
      ]
    },
    {
      "cell_type": "markdown",
      "source": [
        "**2. Create a program that calculates the sum of all numbers in a list using a `for` loop.**"
      ],
      "metadata": {
        "id": "uSCyWgDwyKRu"
      }
    },
    {
      "cell_type": "code",
      "source": [
        "def sum_of_list(numbers):\n",
        "    total = 0\n",
        "    for num in numbers:\n",
        "        total += num\n",
        "    return total\n",
        "\n",
        "\n",
        "my_list = [1, 2, 3, 4, 5]\n",
        "result = sum_of_list(my_list)\n",
        "print(\"Sum of the list:\", result)\n"
      ],
      "metadata": {
        "colab": {
          "base_uri": "https://localhost:8080/"
        },
        "id": "9_ZZD5JSyOW5",
        "outputId": "43547487-2544-40d6-ad06-1e01f729292a"
      },
      "execution_count": 5,
      "outputs": [
        {
          "output_type": "stream",
          "name": "stdout",
          "text": [
            "Sum of the list: 15\n"
          ]
        }
      ]
    },
    {
      "cell_type": "markdown",
      "source": [
        "**Write a program to print the characters of a string in reverse order using a `for` loop.**"
      ],
      "metadata": {
        "id": "xGyP8AeSyXxD"
      }
    },
    {
      "cell_type": "code",
      "source": [
        "def reverse_string(string):\n",
        "    reversed_string = \"\"\n",
        "    for char in reversed(string):\n",
        "        reversed_string += char\n",
        "    return reversed_string\n",
        "\n",
        ":\n",
        "input_string = \"hello\"\n",
        "reversed_str = reverse_string(input_string)\n",
        "print(\"Original string:\", input_string)\n",
        "print(\"Reversed string:\", reversed_str)\n"
      ],
      "metadata": {
        "colab": {
          "base_uri": "https://localhost:8080/"
        },
        "id": "6NmfyJocyZ_H",
        "outputId": "10fe9ef3-9ffd-4829-8534-67978eecf145"
      },
      "execution_count": 6,
      "outputs": [
        {
          "output_type": "stream",
          "name": "stdout",
          "text": [
            "Original string: hello\n",
            "Reversed string: olleh\n"
          ]
        }
      ]
    },
    {
      "cell_type": "markdown",
      "source": [
        "**4.Develop a program that finds the factorial of a given number using a `for` loop.**"
      ],
      "metadata": {
        "id": "qIfQk-cNylQN"
      }
    },
    {
      "cell_type": "code",
      "source": [
        "def factorial(n):\n",
        "    result = 1\n",
        "    for i in range(1, n + 1):\n",
        "        result *= i\n",
        "    return result\n",
        "\n",
        "\n",
        "number = 5\n",
        "fact = factorial(number)\n",
        "print(\"Factorial of\", number, \"is:\", fact)\n"
      ],
      "metadata": {
        "colab": {
          "base_uri": "https://localhost:8080/"
        },
        "id": "DeYkn8bSytz7",
        "outputId": "fccbf598-39e7-4433-c3de-c0e555d153d9"
      },
      "execution_count": 7,
      "outputs": [
        {
          "output_type": "stream",
          "name": "stdout",
          "text": [
            "Factorial of 5 is: 120\n"
          ]
        }
      ]
    },
    {
      "cell_type": "markdown",
      "source": [
        "**5. Create a program to print the multiplication table of a given number using a `for` loop.**"
      ],
      "metadata": {
        "id": "H-JK_T1gyxRf"
      }
    },
    {
      "cell_type": "code",
      "source": [
        "def multiplication_table(number):\n",
        "    print(\"Multiplication table of\", number, \":\")\n",
        "    for i in range(1, 11):\n",
        "        print(number, \"x\", i, \"=\", number * i)\n",
        "\n",
        "\n",
        "given_number = int(input(\"Enter number: \"))\n",
        "multiplication_table(given_number)\n"
      ],
      "metadata": {
        "colab": {
          "base_uri": "https://localhost:8080/"
        },
        "id": "dGzhgW3-yzwY",
        "outputId": "0c2b80a2-8b6c-46cc-bb1f-fb114408ddbe"
      },
      "execution_count": 11,
      "outputs": [
        {
          "output_type": "stream",
          "name": "stdout",
          "text": [
            "Enter number: 4\n",
            "Multiplication table of 4 :\n",
            "4 x 1 = 4\n",
            "4 x 2 = 8\n",
            "4 x 3 = 12\n",
            "4 x 4 = 16\n",
            "4 x 5 = 20\n",
            "4 x 6 = 24\n",
            "4 x 7 = 28\n",
            "4 x 8 = 32\n",
            "4 x 9 = 36\n",
            "4 x 10 = 40\n"
          ]
        }
      ]
    },
    {
      "cell_type": "markdown",
      "source": [
        "**6. Write a program that counts the number of even and odd numbers in a list using a `for` loop.**"
      ],
      "metadata": {
        "id": "g_-Ste4_zPE8"
      }
    },
    {
      "cell_type": "code",
      "source": [
        "def count_even_odd(numbers):\n",
        "    even_count = 0\n",
        "    odd_count = 0\n",
        "    for num in numbers:\n",
        "        if num % 2 == 0:\n",
        "            even_count += 1\n",
        "        else:\n",
        "            odd_count += 1\n",
        "    return even_count, odd_count\n",
        "\n",
        "\n",
        "my_list = [1, 2, 3, 4, 5, 6, 7, 8, 9, 10]\n",
        "even, odd = count_even_odd(my_list)\n",
        "print(\"Number of even numbers:\", even)\n",
        "print(\"Number of odd numbers:\", odd)\n"
      ],
      "metadata": {
        "colab": {
          "base_uri": "https://localhost:8080/"
        },
        "id": "hnk9aiUgzRSB",
        "outputId": "ccda25ab-74da-48b7-fc9d-9a0d0a1fd43e"
      },
      "execution_count": 12,
      "outputs": [
        {
          "output_type": "stream",
          "name": "stdout",
          "text": [
            "Number of even numbers: 5\n",
            "Number of odd numbers: 5\n"
          ]
        }
      ]
    },
    {
      "cell_type": "markdown",
      "source": [
        "**7. Develop a program that prints the squares of numbers from 1 to 5 using a `for` loop.**"
      ],
      "metadata": {
        "id": "iMyIHb6AzfUD"
      }
    },
    {
      "cell_type": "code",
      "source": [
        "print(\"Squares of numbers from 1 to 5:\")\n",
        "for i in range(1, 6):\n",
        "    square = i ** 2\n",
        "    print(\"Square of\", i, \":\", square)\n"
      ],
      "metadata": {
        "colab": {
          "base_uri": "https://localhost:8080/"
        },
        "id": "B5naAv3gzeik",
        "outputId": "6ab45f23-74fe-45bf-d268-b4597c3cc071"
      },
      "execution_count": 13,
      "outputs": [
        {
          "output_type": "stream",
          "name": "stdout",
          "text": [
            "Squares of numbers from 1 to 5:\n",
            "Square of 1 : 1\n",
            "Square of 2 : 4\n",
            "Square of 3 : 9\n",
            "Square of 4 : 16\n",
            "Square of 5 : 25\n"
          ]
        }
      ]
    },
    {
      "cell_type": "markdown",
      "source": [
        "**8. Create a program to find the length of a string without using the `len()` function.**"
      ],
      "metadata": {
        "id": "M0R9ENswznTI"
      }
    },
    {
      "cell_type": "code",
      "source": [
        "def string_length(string):\n",
        "    length = 0\n",
        "    for char in string:\n",
        "        length += 1\n",
        "    return length\n",
        "\n",
        "\n",
        "input_string = \"Hello, World!\"\n",
        "length = string_length(input_string)\n",
        "print(\"Length of the string:\", length)\n"
      ],
      "metadata": {
        "colab": {
          "base_uri": "https://localhost:8080/"
        },
        "id": "QTjAwAdhz0g_",
        "outputId": "456e0bf9-84a6-43c9-b90a-16d7f60b5e25"
      },
      "execution_count": 14,
      "outputs": [
        {
          "output_type": "stream",
          "name": "stdout",
          "text": [
            "Length of the string: 13\n"
          ]
        }
      ]
    },
    {
      "cell_type": "markdown",
      "source": [
        "**9. Write a program that calculates the average of a list of numbers using a `for` loop.**"
      ],
      "metadata": {
        "id": "Gr7AHqfKz3Vk"
      }
    },
    {
      "cell_type": "code",
      "source": [
        "def calculate_average(numbers):\n",
        "    total = 0\n",
        "    count = 0\n",
        "    for num in numbers:\n",
        "        total += num\n",
        "        count += 1\n",
        "    if count == 0:\n",
        "        return 0  # To avoid division by zero\n",
        "    else:\n",
        "        return total / count\n",
        "\n",
        "\n",
        "my_list = [1, 2, 3, 4, 5]\n",
        "average = calculate_average(my_list)\n",
        "print(\"Average of the list:\", average)\n",
        "\n"
      ],
      "metadata": {
        "colab": {
          "base_uri": "https://localhost:8080/"
        },
        "id": "QV_0m7HNz7sN",
        "outputId": "013d825b-371a-49ae-81c6-f4c0e2123f79"
      },
      "execution_count": 15,
      "outputs": [
        {
          "output_type": "stream",
          "name": "stdout",
          "text": [
            "Average of the list: 3.0\n"
          ]
        }
      ]
    },
    {
      "cell_type": "markdown",
      "source": [
        "**10. Develop a program that prints the first `n` Fibonacci numbers using a `for` loop.**"
      ],
      "metadata": {
        "id": "blRYBxmb0BEj"
      }
    },
    {
      "cell_type": "code",
      "source": [
        "def fibonacci(n):\n",
        "    fib_sequence = []\n",
        "    if n <= 0:\n",
        "        return fib_sequence\n",
        "    elif n == 1:\n",
        "        return [0]\n",
        "    elif n == 2:\n",
        "        return [0, 1]\n",
        "    else:\n",
        "        fib_sequence = [0, 1]\n",
        "        for i in range(2, n):\n",
        "            next_fib = fib_sequence[-1] + fib_sequence[-2]\n",
        "            fib_sequence.append(next_fib)\n",
        "        return fib_sequence\n",
        "\n",
        "# Example usage:\n",
        "n = 10  # Number of Fibonacci numbers to print\n",
        "fib_numbers = fibonacci(n)\n",
        "print(\"First\", n, \"Fibonacci numbers:\")\n",
        "for num in fib_numbers:\n",
        "    print(num, end=\" \")\n"
      ],
      "metadata": {
        "colab": {
          "base_uri": "https://localhost:8080/"
        },
        "id": "NcbUJ5t-0ITC",
        "outputId": "406be7fb-a1c7-418f-eb8a-1df0ae3240bc"
      },
      "execution_count": 16,
      "outputs": [
        {
          "output_type": "stream",
          "name": "stdout",
          "text": [
            "First 10 Fibonacci numbers:\n",
            "0 1 1 2 3 5 8 13 21 34 "
          ]
        }
      ]
    },
    {
      "cell_type": "markdown",
      "source": [
        "****"
      ],
      "metadata": {
        "id": "B65QHAlL6uSQ"
      }
    },
    {
      "cell_type": "markdown",
      "source": [
        "# Intermidiate level"
      ],
      "metadata": {
        "id": "XAYq_M0l0LZ6"
      }
    },
    {
      "cell_type": "markdown",
      "source": [
        "**11. Write a program to check if a given list contains any duplicates using a `for` loop.**"
      ],
      "metadata": {
        "id": "pOQfi2x40PH3"
      }
    },
    {
      "cell_type": "code",
      "source": [
        "def has_duplicates(lst):\n",
        "    seen = set()\n",
        "    for item in lst:\n",
        "        if item in seen:\n",
        "            return True\n",
        "        seen.add(item)\n",
        "    return False\n",
        "\n",
        "\n",
        "my_list = [1, 2, 3, 4, 5]\n",
        "print(\"Does the list have duplicates?\", has_duplicates(my_list))\n",
        "\n",
        "my_list_with_duplicates = [1, 2, 3, 4, 5, 3]\n",
        "print(\"Does the list with duplicates have duplicates?\", has_duplicates(my_list_with_duplicates))\n"
      ],
      "metadata": {
        "colab": {
          "base_uri": "https://localhost:8080/"
        },
        "id": "Yp3pIlaT0UlY",
        "outputId": "0d9da66e-188c-4c06-e3aa-384cf2ba1604"
      },
      "execution_count": 17,
      "outputs": [
        {
          "output_type": "stream",
          "name": "stdout",
          "text": [
            "Does the list have duplicates? False\n",
            "Does the list with duplicates have duplicates? True\n"
          ]
        }
      ]
    },
    {
      "cell_type": "markdown",
      "source": [
        "**12. Create a program that prints the prime numbers in a given range using a `for` loop.**"
      ],
      "metadata": {
        "id": "kGdILgqj0c9A"
      }
    },
    {
      "cell_type": "code",
      "source": [
        "def is_prime(num):\n",
        "    if num <= 1:\n",
        "        return False\n",
        "    for i in range(2, int(num**0.5) + 1):\n",
        "        if num % i == 0:\n",
        "            return False\n",
        "    return True\n",
        "\n",
        "def print_prime_numbers(start, end):\n",
        "    print(\"Prime numbers between\", start, \"and\", end, \"are:\")\n",
        "    for num in range(start, end + 1):\n",
        "        if is_prime(num):\n",
        "            print(num, end=\" \")\n",
        "\n",
        "\n",
        "start_range = 10\n",
        "end_range = 50\n",
        "print_prime_numbers(start_range, end_range)\n"
      ],
      "metadata": {
        "colab": {
          "base_uri": "https://localhost:8080/"
        },
        "id": "2QKQ3U7Z0h4U",
        "outputId": "af22adbf-2e67-4b71-9765-b84927c8e4f3"
      },
      "execution_count": 18,
      "outputs": [
        {
          "output_type": "stream",
          "name": "stdout",
          "text": [
            "Prime numbers between 10 and 50 are:\n",
            "11 13 17 19 23 29 31 37 41 43 47 "
          ]
        }
      ]
    },
    {
      "cell_type": "markdown",
      "source": [
        "**13. Develop a program that counts the number of vowels in a string using a `for` loop.**"
      ],
      "metadata": {
        "id": "xn9FOWPP0ypz"
      }
    },
    {
      "cell_type": "code",
      "source": [
        "def count_vowels(string):\n",
        "    vowels = \"aeiouAEIOU\"\n",
        "    vowel_count = 0\n",
        "    for char in string:\n",
        "        if char in vowels:\n",
        "            vowel_count += 1\n",
        "    return vowel_count\n",
        "\n",
        "\n",
        "input_string = \"Hello, World!\"\n",
        "num_vowels = count_vowels(input_string)\n",
        "print(\"Number of vowels in the string:\", num_vowels)\n"
      ],
      "metadata": {
        "colab": {
          "base_uri": "https://localhost:8080/"
        },
        "id": "VFtKX19l08UE",
        "outputId": "8c285fe0-3b8c-426e-f0ae-df68b5020fe1"
      },
      "execution_count": 19,
      "outputs": [
        {
          "output_type": "stream",
          "name": "stdout",
          "text": [
            "Number of vowels in the string: 3\n"
          ]
        }
      ]
    },
    {
      "cell_type": "markdown",
      "source": [
        "**14. Write a program to find the maximum element in a 2D list using a nested `for` loop.**"
      ],
      "metadata": {
        "id": "Hfa49ZMe1JjN"
      }
    },
    {
      "cell_type": "code",
      "source": [
        "def find_max_element_2d(matrix):\n",
        "    max_element = float(\"-inf\")  # Initialize max_element to negative infinity\n",
        "    for row in matrix:\n",
        "        for element in row:\n",
        "            if element > max_element:\n",
        "                max_element = element\n",
        "    return max_element\n",
        "\n",
        "\n",
        "my_matrix = [\n",
        "    [1, 2, 3],\n",
        "    [4, 5, 6],\n",
        "    [7, 8, 9]\n",
        "]\n",
        "max_element = find_max_element_2d(my_matrix)\n",
        "print(\"Maximum element in the 2D list:\", max_element)\n"
      ],
      "metadata": {
        "colab": {
          "base_uri": "https://localhost:8080/"
        },
        "id": "fiGEy18l1JGU",
        "outputId": "ff17dab3-f8f7-4c51-d9ea-733c8509eef3"
      },
      "execution_count": 20,
      "outputs": [
        {
          "output_type": "stream",
          "name": "stdout",
          "text": [
            "Maximum element in the 2D list: 9\n"
          ]
        }
      ]
    },
    {
      "cell_type": "markdown",
      "source": [
        "**15. Create a program that removes all occurrences of a specific element from a list using a `for` loop.**"
      ],
      "metadata": {
        "id": "y7AFENLX1VvS"
      }
    },
    {
      "cell_type": "code",
      "source": [
        "def remove_element(lst, element):\n",
        "    updated_list = []\n",
        "    for item in lst:\n",
        "        if item != element:\n",
        "            updated_list.append(item)\n",
        "    return updated_list\n",
        "\n",
        ":\n",
        "my_list = [1, 2, 3, 4, 2, 5, 2]\n",
        "element_to_remove = 2\n",
        "updated_list = remove_element(my_list, element_to_remove)\n",
        "print(\"Original list:\", my_list)\n",
        "print(\"After removing\", element_to_remove, \":\", updated_list)\n"
      ],
      "metadata": {
        "colab": {
          "base_uri": "https://localhost:8080/"
        },
        "id": "zfWQeeCv1fdx",
        "outputId": "1760a99b-ed45-4fb4-b180-3fa12efc2efa"
      },
      "execution_count": 21,
      "outputs": [
        {
          "output_type": "stream",
          "name": "stdout",
          "text": [
            "Original list: [1, 2, 3, 4, 2, 5, 2]\n",
            "After removing 2 : [1, 3, 4, 5]\n"
          ]
        }
      ]
    },
    {
      "cell_type": "markdown",
      "source": [
        "**16. Develop a program that generates a multiplication table for numbers from 1 to 5 using a nested `for` loop**"
      ],
      "metadata": {
        "id": "yz3QSsJ01Z48"
      }
    },
    {
      "cell_type": "code",
      "source": [
        "def generate_multiplication_table():\n",
        "    for i in range(1, 6):\n",
        "        print(f\"Multiplication table for {i}:\")\n",
        "        for j in range(1, 11):\n",
        "            print(f\"{i} x {j} = {i*j}\")\n",
        "        print()  # Add a blank line after each table\n",
        "\n",
        "\n",
        "generate_multiplication_table()\n"
      ],
      "metadata": {
        "colab": {
          "base_uri": "https://localhost:8080/"
        },
        "id": "HrC6h14V1oPh",
        "outputId": "680974e1-9501-445f-d982-466e6b8d366f"
      },
      "execution_count": 22,
      "outputs": [
        {
          "output_type": "stream",
          "name": "stdout",
          "text": [
            "Multiplication table for 1:\n",
            "1 x 1 = 1\n",
            "1 x 2 = 2\n",
            "1 x 3 = 3\n",
            "1 x 4 = 4\n",
            "1 x 5 = 5\n",
            "1 x 6 = 6\n",
            "1 x 7 = 7\n",
            "1 x 8 = 8\n",
            "1 x 9 = 9\n",
            "1 x 10 = 10\n",
            "\n",
            "Multiplication table for 2:\n",
            "2 x 1 = 2\n",
            "2 x 2 = 4\n",
            "2 x 3 = 6\n",
            "2 x 4 = 8\n",
            "2 x 5 = 10\n",
            "2 x 6 = 12\n",
            "2 x 7 = 14\n",
            "2 x 8 = 16\n",
            "2 x 9 = 18\n",
            "2 x 10 = 20\n",
            "\n",
            "Multiplication table for 3:\n",
            "3 x 1 = 3\n",
            "3 x 2 = 6\n",
            "3 x 3 = 9\n",
            "3 x 4 = 12\n",
            "3 x 5 = 15\n",
            "3 x 6 = 18\n",
            "3 x 7 = 21\n",
            "3 x 8 = 24\n",
            "3 x 9 = 27\n",
            "3 x 10 = 30\n",
            "\n",
            "Multiplication table for 4:\n",
            "4 x 1 = 4\n",
            "4 x 2 = 8\n",
            "4 x 3 = 12\n",
            "4 x 4 = 16\n",
            "4 x 5 = 20\n",
            "4 x 6 = 24\n",
            "4 x 7 = 28\n",
            "4 x 8 = 32\n",
            "4 x 9 = 36\n",
            "4 x 10 = 40\n",
            "\n",
            "Multiplication table for 5:\n",
            "5 x 1 = 5\n",
            "5 x 2 = 10\n",
            "5 x 3 = 15\n",
            "5 x 4 = 20\n",
            "5 x 5 = 25\n",
            "5 x 6 = 30\n",
            "5 x 7 = 35\n",
            "5 x 8 = 40\n",
            "5 x 9 = 45\n",
            "5 x 10 = 50\n",
            "\n"
          ]
        }
      ]
    },
    {
      "cell_type": "markdown",
      "source": [
        "**17. Write a program that converts a list of Fahrenheit temperatures to Celsius using a `for` loop.**"
      ],
      "metadata": {
        "id": "1QOxBz8F2BrZ"
      }
    },
    {
      "cell_type": "code",
      "source": [
        "def fahrenheit_to_celsius(fahrenheit_temperatures):\n",
        "    celsius_temperatures = []\n",
        "    for fahrenheit in fahrenheit_temperatures:\n",
        "        celsius = (fahrenheit - 32) * 5/9\n",
        "        celsius_temperatures.append(celsius)\n",
        "    return celsius_temperatures\n",
        "\n",
        "\n",
        "fahrenheit_temperatures = [32, 68, 86, 104, 122]\n",
        "celsius_temperatures = fahrenheit_to_celsius(fahrenheit_temperatures)\n",
        "print(\"Fahrenheit Temperatures:\", fahrenheit_temperatures)\n",
        "print(\"Celsius Temperatures:\", celsius_temperatures)\n"
      ],
      "metadata": {
        "colab": {
          "base_uri": "https://localhost:8080/"
        },
        "id": "sZ_e3U1l2Km0",
        "outputId": "c49f7819-1c70-4d7d-f5a9-3769bee87cba"
      },
      "execution_count": 23,
      "outputs": [
        {
          "output_type": "stream",
          "name": "stdout",
          "text": [
            "Fahrenheit Temperatures: [32, 68, 86, 104, 122]\n",
            "Celsius Temperatures: [0.0, 20.0, 30.0, 40.0, 50.0]\n"
          ]
        }
      ]
    },
    {
      "cell_type": "markdown",
      "source": [
        "**18. Create a program to print the common elements from two lists using a `for` loop.**"
      ],
      "metadata": {
        "id": "a7m_bHp62Qq_"
      }
    },
    {
      "cell_type": "code",
      "source": [
        "def find_common_elements(list1, list2):\n",
        "    common_elements = []\n",
        "    for item1 in list1:\n",
        "        for item2 in list2:\n",
        "            if item1 == item2:\n",
        "                common_elements.append(item1)\n",
        "                break  # Break to avoid duplicate entries in the result\n",
        "    return common_elements\n",
        "\n",
        "\n",
        "list1 = [1, 2, 3, 4, 5]\n",
        "list2 = [4, 5, 6, 7, 8]\n",
        "common_elements = find_common_elements(list1, list2)\n",
        "print(\"Common elements:\", common_elements)\n"
      ],
      "metadata": {
        "colab": {
          "base_uri": "https://localhost:8080/"
        },
        "id": "5PT9PL2Y2S0v",
        "outputId": "3a35b1d1-fdf6-4adf-e087-f424d05eb6f1"
      },
      "execution_count": 24,
      "outputs": [
        {
          "output_type": "stream",
          "name": "stdout",
          "text": [
            "Common elements: [4, 5]\n"
          ]
        }
      ]
    },
    {
      "cell_type": "markdown",
      "source": [
        "**19 Develop a program that prints the pattern of right-angled triangles using a `for` loop. Use ‘*’ to draw the\n",
        "pattern**"
      ],
      "metadata": {
        "id": "8l0kXkAA2fvF"
      }
    },
    {
      "cell_type": "code",
      "source": [
        "def print_right_triangle(rows):\n",
        "    for i in range(1, rows + 1):\n",
        "        print('*' * i)\n",
        "\n",
        "rows = 5\n",
        "print(\"Right-angled triangle pattern:\")\n",
        "print_right_triangle(rows)\n"
      ],
      "metadata": {
        "colab": {
          "base_uri": "https://localhost:8080/"
        },
        "id": "Dxw72HPN2oYG",
        "outputId": "a24e4388-14cc-45f1-a516-7d2960e2352c"
      },
      "execution_count": 25,
      "outputs": [
        {
          "output_type": "stream",
          "name": "stdout",
          "text": [
            "Right-angled triangle pattern:\n",
            "*\n",
            "**\n",
            "***\n",
            "****\n",
            "*****\n"
          ]
        }
      ]
    },
    {
      "cell_type": "markdown",
      "source": [
        "**20. Write a program to find the greatest common divisor (GCD) of two numbers using a `for` loop**"
      ],
      "metadata": {
        "id": "1iabdci92rcZ"
      }
    },
    {
      "cell_type": "code",
      "source": [
        "def find_gcd(num1, num2):\n",
        "    gcd = 1\n",
        "    for i in range(1, min(num1, num2) + 1):\n",
        "        if num1 % i == 0 and num2 % i == 0:\n",
        "            gcd = i\n",
        "    return gcd\n",
        "\n",
        "\n",
        "number1 = 24\n",
        "number2 = 36\n",
        "gcd = find_gcd(number1, number2)\n",
        "print(\"Greatest Common Divisor of\", number1, \"and\", number2, \"is:\", gcd)\n"
      ],
      "metadata": {
        "colab": {
          "base_uri": "https://localhost:8080/"
        },
        "id": "L27Kr1W52vBG",
        "outputId": "7214a873-397d-49ba-ca8e-2f675cb3d0f9"
      },
      "execution_count": 26,
      "outputs": [
        {
          "output_type": "stream",
          "name": "stdout",
          "text": [
            "Greatest Common Divisor of 24 and 36 is: 12\n"
          ]
        }
      ]
    },
    {
      "cell_type": "markdown",
      "source": [
        "****"
      ],
      "metadata": {
        "id": "N0RXcVZY6GHF"
      }
    },
    {
      "cell_type": "markdown",
      "source": [
        "# Advance Level"
      ],
      "metadata": {
        "id": "c-yfo_t121-V"
      }
    },
    {
      "cell_type": "markdown",
      "source": [
        "**21. Create a program that calculates the sum of the digits of numbers in a list using a list comprehension.**"
      ],
      "metadata": {
        "id": "qeWES22X25_Y"
      }
    },
    {
      "cell_type": "code",
      "source": [
        "def sum_of_digits(numbers):\n",
        "    return [sum(int(digit) for digit in str(num)) for num in numbers]\n",
        "\n",
        "numbers = [123, 456, 789]\n",
        "sum_of_digits_list = sum_of_digits(numbers)\n",
        "print(\"Sum of digits for each number:\", sum_of_digits_list)\n"
      ],
      "metadata": {
        "colab": {
          "base_uri": "https://localhost:8080/"
        },
        "id": "epVflGUZ25YU",
        "outputId": "ea8df778-a6a6-467e-b99a-9f51613d539d"
      },
      "execution_count": 27,
      "outputs": [
        {
          "output_type": "stream",
          "name": "stdout",
          "text": [
            "Sum of digits for each number: [6, 15, 24]\n"
          ]
        }
      ]
    },
    {
      "cell_type": "markdown",
      "source": [
        "**22. Write a program to find the prime factors of a given number using a `for` loop and list comprehension.**"
      ],
      "metadata": {
        "id": "ihyPiXfk3NcX"
      }
    },
    {
      "cell_type": "code",
      "source": [
        "def prime_factors(number):\n",
        "    factors = []\n",
        "    # Divide the number by 2 repeatedly to remove all factors of 2\n",
        "    while number % 2 == 0:\n",
        "        factors.append(2)\n",
        "        number //= 2\n",
        "    # Now, the number is odd, so we can start from 3 and check odd numbers\n",
        "    for i in range(3, int(number**0.5) + 1, 2):\n",
        "        while number % i == 0:\n",
        "            factors.append(i)\n",
        "            number //= i\n",
        "    # If the remaining number is greater than 2, it's also a factor\n",
        "    if number > 2:\n",
        "        factors.append(number)\n",
        "    return factors\n",
        "\n",
        "\n",
        "number = 84\n",
        "prime_factors_list = prime_factors(number)\n",
        "print(\"Prime factors of\", number, \"are:\", prime_factors_list)\n"
      ],
      "metadata": {
        "colab": {
          "base_uri": "https://localhost:8080/"
        },
        "id": "VZjZE__y3PAS",
        "outputId": "eac62851-ea17-471f-8049-32cade5dd115"
      },
      "execution_count": 28,
      "outputs": [
        {
          "output_type": "stream",
          "name": "stdout",
          "text": [
            "Prime factors of 84 are: [2, 2, 3, 7]\n"
          ]
        }
      ]
    },
    {
      "cell_type": "markdown",
      "source": [
        "**23. Develop a program that extracts unique elements from a list and stores them in a new list using a list\n",
        "comprehension.**"
      ],
      "metadata": {
        "id": "dhUw8Ecm3kGL"
      }
    },
    {
      "cell_type": "code",
      "source": [
        "def extract_unique_elements(input_list):\n",
        "    return list(set(input_list))\n",
        "\n",
        "\n",
        "input_list = [1, 2, 2, 3, 4, 4, 5, 5, 6]\n",
        "unique_elements = extract_unique_elements(input_list)\n",
        "print(\"Original list:\", input_list)\n",
        "print(\"Unique elements:\", unique_elements)\n"
      ],
      "metadata": {
        "colab": {
          "base_uri": "https://localhost:8080/"
        },
        "id": "lXdvz2JX3mgz",
        "outputId": "13eefa4d-818c-4a6c-b92a-44a43c30e4cd"
      },
      "execution_count": 29,
      "outputs": [
        {
          "output_type": "stream",
          "name": "stdout",
          "text": [
            "Original list: [1, 2, 2, 3, 4, 4, 5, 5, 6]\n",
            "Unique elements: [1, 2, 3, 4, 5, 6]\n"
          ]
        }
      ]
    },
    {
      "cell_type": "markdown",
      "source": [
        "**24. Create a program that generates a list of all palindromic numbers up to a specified limit using a list\n",
        "comprehension.**"
      ],
      "metadata": {
        "id": "E0w7ED5X3tl0"
      }
    },
    {
      "cell_type": "code",
      "source": [
        "def extract_unique_elements(input_list):\n",
        "    unique_elements = []\n",
        "    for item in input_list:\n",
        "        if item not in unique_elements:\n",
        "            unique_elements.append(item)\n",
        "    return unique_elements\n",
        "\n",
        "\n",
        "input_list = [1, 2, 2, 3, 4, 4, 5, 5, 6]\n",
        "unique_elements = extract_unique_elements(input_list)\n",
        "print(\"Original list:\", input_list)\n",
        "print(\"Unique elements:\", unique_elements)\n"
      ],
      "metadata": {
        "colab": {
          "base_uri": "https://localhost:8080/"
        },
        "id": "fbITznwS3wLZ",
        "outputId": "db1b8d1d-e70d-4032-a74d-a4fb97401a0b"
      },
      "execution_count": 31,
      "outputs": [
        {
          "output_type": "stream",
          "name": "stdout",
          "text": [
            "Original list: [1, 2, 2, 3, 4, 4, 5, 5, 6]\n",
            "Unique elements: [1, 2, 3, 4, 5, 6]\n"
          ]
        }
      ]
    },
    {
      "cell_type": "markdown",
      "source": [
        "**25. Write a program to flatten a nested list using list comprehension.**"
      ],
      "metadata": {
        "id": "8Cn08rhx4GIq"
      }
    },
    {
      "cell_type": "code",
      "source": [
        "nested_list = [[1, 2, 3], [4, 5], [6, 7, 8]]\n",
        "flattened_list = []\n",
        "\n",
        "for sublist in nested_list:\n",
        "    for element in sublist:\n",
        "        flattened_list.append(element)\n",
        "\n",
        "print(\"Nested List:\", nested_list)\n",
        "print(\"Flattened List:\", flattened_list)\n"
      ],
      "metadata": {
        "colab": {
          "base_uri": "https://localhost:8080/"
        },
        "id": "LobXSnzn4P53",
        "outputId": "696aeacd-0dba-49d5-a86a-88058898128c"
      },
      "execution_count": 32,
      "outputs": [
        {
          "output_type": "stream",
          "name": "stdout",
          "text": [
            "Nested List: [[1, 2, 3], [4, 5], [6, 7, 8]]\n",
            "Flattened List: [1, 2, 3, 4, 5, 6, 7, 8]\n"
          ]
        }
      ]
    },
    {
      "cell_type": "markdown",
      "source": [
        "**26. Develop a program that computes the sum of even and odd numbers in a list separately using list\n",
        "comprehension.**"
      ],
      "metadata": {
        "id": "Epo9qg0K4R9r"
      }
    },
    {
      "cell_type": "code",
      "source": [
        "def sum_even_odd(numbers):\n",
        "    even_sum = 0\n",
        "    odd_sum = 0\n",
        "    for num in numbers:\n",
        "        if num % 2 == 0:\n",
        "            even_sum += num\n",
        "        else:\n",
        "            odd_sum += num\n",
        "    return even_sum, odd_sum\n",
        "\n",
        "\n",
        "numbers = [1, 2, 3, 4, 5, 6, 7, 8, 9, 10]\n",
        "even_sum, odd_sum = sum_even_odd(numbers)\n",
        "print(\"Original list:\", numbers)\n",
        "print(\"Sum of even numbers:\", even_sum)\n",
        "print(\"Sum of odd numbers:\", odd_sum)\n"
      ],
      "metadata": {
        "colab": {
          "base_uri": "https://localhost:8080/"
        },
        "id": "Zj4SMlVh4UHS",
        "outputId": "c75df464-0f08-4fbd-ee42-7325c3aee53f"
      },
      "execution_count": 33,
      "outputs": [
        {
          "output_type": "stream",
          "name": "stdout",
          "text": [
            "Original list: [1, 2, 3, 4, 5, 6, 7, 8, 9, 10]\n",
            "Sum of even numbers: 30\n",
            "Sum of odd numbers: 25\n"
          ]
        }
      ]
    },
    {
      "cell_type": "markdown",
      "source": [
        "**27. Create a program that generates a list of squares of odd numbers between 1 and 10 using list\n",
        "comprehension.**"
      ],
      "metadata": {
        "id": "AoY8zWVH4ls3"
      }
    },
    {
      "cell_type": "code",
      "source": [
        "squares_of_odd_numbers = [num**2 for num in range(1, 11) if num % 2 != 0]\n",
        "\n",
        "print(\"List of squares of odd numbers between 1 and 10:\", squares_of_odd_numbers)\n"
      ],
      "metadata": {
        "colab": {
          "base_uri": "https://localhost:8080/"
        },
        "id": "zPZzv0pe4tE5",
        "outputId": "4b3e7a71-afd1-4647-b522-8cc070e8e9d4"
      },
      "execution_count": 34,
      "outputs": [
        {
          "output_type": "stream",
          "name": "stdout",
          "text": [
            "List of squares of odd numbers between 1 and 10: [1, 9, 25, 49, 81]\n"
          ]
        }
      ]
    },
    {
      "cell_type": "markdown",
      "source": [
        "**28. Write a program that combines two lists into a dictionary using list comprehension.**"
      ],
      "metadata": {
        "id": "wbVbI45H4yRn"
      }
    },
    {
      "cell_type": "code",
      "source": [
        "keys = ['a', 'b', 'c']\n",
        "values = [1, 2, 3]\n",
        "\n",
        "combined_dict = {key: value for key, value in zip(keys, values)}\n",
        "\n",
        "print(\"Combined Dictionary:\", combined_dict)\n"
      ],
      "metadata": {
        "colab": {
          "base_uri": "https://localhost:8080/"
        },
        "id": "V71bBrhv45kv",
        "outputId": "51adfdd6-9b15-42df-ccbb-23d0e79988a3"
      },
      "execution_count": 35,
      "outputs": [
        {
          "output_type": "stream",
          "name": "stdout",
          "text": [
            "Combined Dictionary: {'a': 1, 'b': 2, 'c': 3}\n"
          ]
        }
      ]
    },
    {
      "cell_type": "markdown",
      "source": [
        "**29. Develop a program that extracts the vowels from a string and stores them in a list using list comprehension.**"
      ],
      "metadata": {
        "id": "9jA5pjwr48fR"
      }
    },
    {
      "cell_type": "code",
      "source": [
        "def extract_vowels(string):\n",
        "    vowels = \"aeiouAEIOU\"\n",
        "    return [char for char in string if char in vowels]\n",
        "\n",
        "\n",
        "input_string = \"Hello, World!\"\n",
        "vowel_list = extract_vowels(input_string)\n",
        "print(\"Original string:\", input_string)\n",
        "print(\"List of vowels:\", vowel_list)\n"
      ],
      "metadata": {
        "colab": {
          "base_uri": "https://localhost:8080/"
        },
        "id": "8HTFLWZd4-jI",
        "outputId": "fa1c8941-bce3-46c1-9409-1b5002c3ef71"
      },
      "execution_count": 36,
      "outputs": [
        {
          "output_type": "stream",
          "name": "stdout",
          "text": [
            "Original string: Hello, World!\n",
            "List of vowels: ['e', 'o', 'o']\n"
          ]
        }
      ]
    },
    {
      "cell_type": "markdown",
      "source": [
        "**30. Create a program that removes all non-numeric characters from a list of strings using list comprehension.**"
      ],
      "metadata": {
        "id": "P1zeXWAh5FsF"
      }
    },
    {
      "cell_type": "code",
      "source": [
        "def remove_non_numeric(strings):\n",
        "    return [''.join(char for char in string if char.isdigit()) for string in strings]\n",
        "\n",
        "strings_list = ['abc123', 'def456', 'ghi789']\n",
        "numeric_strings = remove_non_numeric(strings_list)\n",
        "print(\"Original list of strings:\", strings_list)\n",
        "print(\"List of numeric strings:\", numeric_strings)\n"
      ],
      "metadata": {
        "colab": {
          "base_uri": "https://localhost:8080/"
        },
        "id": "VfZYmdpF5ICL",
        "outputId": "0b4c5f45-f74c-451b-d89d-ad791855f26a"
      },
      "execution_count": 37,
      "outputs": [
        {
          "output_type": "stream",
          "name": "stdout",
          "text": [
            "Original list of strings: ['abc123', 'def456', 'ghi789']\n",
            "List of numeric strings: ['123', '456', '789']\n"
          ]
        }
      ]
    },
    {
      "cell_type": "markdown",
      "source": [
        "****"
      ],
      "metadata": {
        "id": "DgdSwqhg71L_"
      }
    },
    {
      "cell_type": "markdown",
      "source": [],
      "metadata": {
        "id": "qn-PJa0D-Xlj"
      }
    },
    {
      "cell_type": "markdown",
      "source": [
        "# Challenge Level"
      ],
      "metadata": {
        "id": "6T5juszh5KnP"
      }
    },
    {
      "cell_type": "markdown",
      "source": [
        "**31. Write a program to generate a list of prime numbers using the Sieve of Eratosthenes algorithm and list\n",
        "comprehension.**"
      ],
      "metadata": {
        "id": "xefQbEW65VcR"
      }
    },
    {
      "cell_type": "code",
      "source": [
        "def sieve_of_eratosthenes(n):\n",
        "    sieve = [True] * (n + 1)\n",
        "    sieve[0] = sieve[1] = False\n",
        "\n",
        "    for i in range(2, int(n ** 0.5) + 1):\n",
        "        if sieve[i]:\n",
        "            sieve[i*i : n+1 : i] = [False] * len(sieve[i*i : n+1 : i])\n",
        "\n",
        "    return [i for i in range(2, n + 1) if sieve[i]]\n",
        "\n",
        "n = int(input(\"Enter a number to generate prime numbers up to: \"))\n",
        "prime_numbers = sieve_of_eratosthenes(n)\n",
        "print(\"Prime numbers up to\", n, \"are:\", prime_numbers)\n"
      ],
      "metadata": {
        "colab": {
          "base_uri": "https://localhost:8080/"
        },
        "id": "YWfKzhG_5cR5",
        "outputId": "f36a22d2-81ee-4fb3-fe7a-c0cc064084db"
      },
      "execution_count": 38,
      "outputs": [
        {
          "output_type": "stream",
          "name": "stdout",
          "text": [
            "Enter a number to generate prime numbers up to: 34\n",
            "Prime numbers up to 34 are: [2, 3, 5, 7, 11, 13, 17, 19, 23, 29, 31]\n"
          ]
        }
      ]
    },
    {
      "cell_type": "markdown",
      "source": [
        "**32. Create a program that generates a list of all Pythagorean triplets up to a specified limit using list\n",
        "comprehension.**"
      ],
      "metadata": {
        "id": "lLA8uHVh5pY2"
      }
    },
    {
      "cell_type": "code",
      "source": [
        "def generate_pythagorean_triplets(limit):\n",
        "    triplets = [(a, b, c) for a in range(1, limit+1)\n",
        "                            for b in range(a, limit+1)\n",
        "                            for c in range(b, limit+1)\n",
        "                            if a**2 + b**2 == c**2]\n",
        "    return triplets\n",
        "\n",
        "\n",
        "limit = int(input(\"Enter the limit to generate Pythagorean triplets up to: \"))\n",
        "pythagorean_triplets = generate_pythagorean_triplets(limit)\n",
        "print(\"Pythagorean triplets up to\", limit, \"are:\", pythagorean_triplets)\n"
      ],
      "metadata": {
        "colab": {
          "base_uri": "https://localhost:8080/"
        },
        "id": "2ANk60175kiU",
        "outputId": "00a71f47-f150-4f1e-d93b-da95b24c16b1"
      },
      "execution_count": 40,
      "outputs": [
        {
          "output_type": "stream",
          "name": "stdout",
          "text": [
            "Enter the limit to generate Pythagorean triplets up to: 10\n",
            "Pythagorean triplets up to 10 are: [(3, 4, 5), (6, 8, 10)]\n"
          ]
        }
      ]
    },
    {
      "cell_type": "markdown",
      "source": [
        "**33. Develop a program that generates a list of all possible combinations of two lists using list comprehension.**"
      ],
      "metadata": {
        "id": "Lu85ZXQ656m6"
      }
    },
    {
      "cell_type": "code",
      "source": [
        "def generate_combinations(list1, list2):\n",
        "    combinations = [(x, y) for x in list1 for y in list2]\n",
        "    return combinations\n",
        "\n",
        "list1 = [1, 2, 3]\n",
        "list2 = ['a', 'b', 'c']\n",
        "all_combinations = generate_combinations(list1, list2)\n",
        "print(\"All possible combinations of\", list1, \"and\", list2, \"are:\", all_combinations)\n"
      ],
      "metadata": {
        "colab": {
          "base_uri": "https://localhost:8080/"
        },
        "id": "IfYzmMlu6B-v",
        "outputId": "2df7e5ee-e846-4d5a-ff93-4fcfab8309f1"
      },
      "execution_count": 41,
      "outputs": [
        {
          "output_type": "stream",
          "name": "stdout",
          "text": [
            "All possible combinations of [1, 2, 3] and ['a', 'b', 'c'] are: [(1, 'a'), (1, 'b'), (1, 'c'), (2, 'a'), (2, 'b'), (2, 'c'), (3, 'a'), (3, 'b'), (3, 'c')]\n"
          ]
        }
      ]
    },
    {
      "cell_type": "markdown",
      "source": [
        "**34. Write a program that calculates the mean, median, and mode of a list of numbers using list\n",
        "comprehension.**"
      ],
      "metadata": {
        "id": "65mB_gHi6L0b"
      }
    },
    {
      "cell_type": "code",
      "source": [
        "from statistics import median, mode\n",
        "\n",
        "def calculate_mean(numbers):\n",
        "    return sum(numbers) / len(numbers)\n",
        "\n",
        "\n",
        "numbers = [1, 2, 3, 4, 5]\n",
        "mean = calculate_mean(numbers)\n",
        "print(\"Mean:\", mean)\n"
      ],
      "metadata": {
        "colab": {
          "base_uri": "https://localhost:8080/"
        },
        "id": "-xEvD1h46Nou",
        "outputId": "a6deebae-01b9-4d71-e542-0fdcff2aaa5e"
      },
      "execution_count": 42,
      "outputs": [
        {
          "output_type": "stream",
          "name": "stdout",
          "text": [
            "Mean: 3.0\n"
          ]
        }
      ]
    },
    {
      "cell_type": "markdown",
      "source": [
        "**35. Create a program that generates Pascal's triangle up to a specified number of rows using list\n",
        "comprehension.**"
      ],
      "metadata": {
        "id": "TvY6nw9d7EvO"
      }
    },
    {
      "cell_type": "code",
      "source": [
        "def generate_pascals_triangle(rows):\n",
        "    triangle = [[1]]\n",
        "    for _ in range(1, rows):\n",
        "        row = [1] + [triangle[-1][i] + triangle[-1][i+1] for i in range(len(triangle[-1])-1)] + [1]\n",
        "        triangle.append(row)\n",
        "    return triangle\n",
        "\n",
        "def print_pascals_triangle(triangle):\n",
        "    for row in triangle:\n",
        "        print(' '.join(map(str, row)).center(len(triangle[-1])*3))\n",
        "\n",
        "\n",
        "rows = int(input(\"Enter the number of rows for Pascal's triangle: \"))\n",
        "pascals_triangle = generate_pascals_triangle(rows)\n",
        "print(\"Pascal's triangle with\", rows, \"rows:\")\n",
        "print_pascals_triangle(pascals_triangle)\n",
        "\n"
      ],
      "metadata": {
        "colab": {
          "base_uri": "https://localhost:8080/"
        },
        "id": "COrUgJJt7GmP",
        "outputId": "f5417535-353e-447a-c776-32ee8375146d"
      },
      "execution_count": 43,
      "outputs": [
        {
          "output_type": "stream",
          "name": "stdout",
          "text": [
            "Enter the number of rows for Pascal's triangle: 5\n",
            "Pascal's triangle with 5 rows:\n",
            "       1       \n",
            "      1 1      \n",
            "     1 2 1     \n",
            "    1 3 3 1    \n",
            "   1 4 6 4 1   \n"
          ]
        }
      ]
    },
    {
      "cell_type": "markdown",
      "source": [
        "36. Develop a program that calculates the sum of the digits of a factorial of numbers from 1 to 5 using list\n",
        "comprehension\n"
      ],
      "metadata": {
        "id": "8fsbby7P7PPB"
      }
    },
    {
      "cell_type": "code",
      "source": [
        "def factorial(n):\n",
        "    if n == 0:\n",
        "        return 1\n",
        "    else:\n",
        "        return n * factorial(n-1)\n",
        "\n",
        "def sum_of_digits(number):\n",
        "    return sum(int(digit) for digit in str(number))\n",
        "\n",
        "# Calculate factorial and sum of digits for numbers 1 to 5\n",
        "results = [sum_of_digits(factorial(i)) for i in range(1, 6)]\n",
        "\n",
        "print(\"Sum of digits of factorials for numbers from 1 to 5:\", results)\n"
      ],
      "metadata": {
        "colab": {
          "base_uri": "https://localhost:8080/"
        },
        "id": "XU2o60mq7XGa",
        "outputId": "8ecfc63d-9628-4169-f0d2-e42bff02bf05"
      },
      "execution_count": 45,
      "outputs": [
        {
          "output_type": "stream",
          "name": "stdout",
          "text": [
            "Sum of digits of factorials for numbers from 1 to 5: [1, 2, 6, 6, 3]\n"
          ]
        }
      ]
    },
    {
      "cell_type": "markdown",
      "source": [
        "**37. Write a program that finds the longest word in a sentence using list comprehension.**"
      ],
      "metadata": {
        "id": "W8qpIf0v7i7u"
      }
    },
    {
      "cell_type": "code",
      "source": [
        "def find_longest_word(sentence):\n",
        "    words = sentence.split()\n",
        "    longest_word = max((word for word in words), key=len)\n",
        "    return longest_word\n",
        "\n",
        "sentence = input(\"Enter a sentence: \")\n",
        "longest_word = find_longest_word(sentence)\n",
        "print(\"The longest word in the sentence is:\", longest_word)\n"
      ],
      "metadata": {
        "colab": {
          "base_uri": "https://localhost:8080/"
        },
        "id": "-9VOkxqx7pQm",
        "outputId": "fbcf5682-233a-42a2-fe38-13289c891d9f"
      },
      "execution_count": 46,
      "outputs": [
        {
          "output_type": "stream",
          "name": "stdout",
          "text": [
            "Enter a sentence: Once upon a time there is a king\n",
            "The longest word in the sentence is: there\n"
          ]
        }
      ]
    },
    {
      "cell_type": "markdown",
      "source": [
        "**38. Create a program that filters a list of strings to include only those with more than three vowels using list comprehension.**"
      ],
      "metadata": {
        "id": "f4hPCqnn8Ecx"
      }
    },
    {
      "cell_type": "code",
      "source": [
        "def count_vowels(word):\n",
        "    vowels = \"aeiouAEIOU\"\n",
        "    return sum(1 for char in word if char in vowels)\n",
        "\n",
        "def filter_strings_with_more_than_three_vowels(strings):\n",
        "    return [string for string in strings if count_vowels(string) > 3]\n",
        "\n",
        "# Example usage:\n",
        "string_list = [\"hello\", \"world\", \"python\", \"programming\", \"computer\", \"technology\", \"vowel\"]\n",
        "filtered_strings = filter_strings_with_more_than_three_vowels(string_list)\n",
        "print(\"Strings with more than three vowels:\", filtered_strings)\n"
      ],
      "metadata": {
        "colab": {
          "base_uri": "https://localhost:8080/"
        },
        "id": "ExYQKiB48F72",
        "outputId": "4c4f9d20-6d0a-4116-d0d4-0eb91db7f862"
      },
      "execution_count": 55,
      "outputs": [
        {
          "output_type": "stream",
          "name": "stdout",
          "text": [
            "Strings with more than three vowels: []\n"
          ]
        }
      ]
    },
    {
      "cell_type": "markdown",
      "source": [
        "**39. Develop a program that calculates the sum of the digits of numbers from 1 to 1000 using list\n",
        "comprehension.**"
      ],
      "metadata": {
        "id": "NuzLAGAr8PQZ"
      }
    },
    {
      "cell_type": "code",
      "source": [
        "def is_prime(n):\n",
        "    if n <= 1:\n",
        "        return False\n",
        "    elif n <= 3:\n",
        "        return True\n",
        "    elif n % 2 == 0 or n % 3 == 0:\n",
        "        return False\n",
        "    i = 5\n",
        "    while i * i <= n:\n",
        "        if n % i == 0 or n % (i + 2) == 0:\n",
        "            return False\n",
        "        i += 6\n",
        "    return True\n",
        "\n",
        "def is_palindrome(n):\n",
        "    return str(n) == str(n)[::-1]\n",
        "\n",
        "# Generate list of prime palindromic numbers\n",
        "prime_palindromic_numbers = [num for num in range(2, 1000) if is_prime(num) and is_palindrome(num)]\n",
        "\n",
        "print(\"Prime palindromic numbers up to 1000:\", prime_palindromic_numbers)\n"
      ],
      "metadata": {
        "colab": {
          "base_uri": "https://localhost:8080/"
        },
        "id": "-MA6OJJw8vFq",
        "outputId": "2867b699-b666-4c5c-b9e4-f76528b1c2fb"
      },
      "execution_count": 50,
      "outputs": [
        {
          "output_type": "stream",
          "name": "stdout",
          "text": [
            "Prime palindromic numbers up to 1000: [2, 3, 5, 7, 11, 101, 131, 151, 181, 191, 313, 353, 373, 383, 727, 757, 787, 797, 919, 929]\n"
          ]
        }
      ]
    },
    {
      "cell_type": "markdown",
      "source": [
        "**40. Write a program that generates a list of prime palindromic numbers using list comprehension**"
      ],
      "metadata": {
        "id": "m9rXBLrU_h3O"
      }
    },
    {
      "cell_type": "code",
      "source": [
        "def is_prime(n):\n",
        "    if n <= 1:\n",
        "        return False\n",
        "    elif n <= 3:\n",
        "        return True\n",
        "    elif n % 2 == 0 or n % 3 == 0:\n",
        "        return False\n",
        "    i = 5\n",
        "    while i * i <= n:\n",
        "        if n % i == 0 or n % (i + 2) == 0:\n",
        "            return False\n",
        "        i += 6\n",
        "    return True\n",
        "\n",
        "def is_palindrome(n):\n",
        "    return str(n) == str(n)[::-1]\n",
        "\n",
        "# Generate list of prime palindromic numbers\n",
        "prime_palindromic_numbers = [num for num in range(2, 1000) if is_prime(num) and is_palindrome(num)]\n",
        "\n",
        "print(\"Prime palindromic numbers up to 1000:\", prime_palindromic_numbers)\n"
      ],
      "metadata": {
        "colab": {
          "base_uri": "https://localhost:8080/"
        },
        "id": "IE18_EWz_pma",
        "outputId": "f7e8eba9-cdd1-44b7-8ab6-71088e030340"
      },
      "execution_count": 57,
      "outputs": [
        {
          "output_type": "stream",
          "name": "stdout",
          "text": [
            "Prime palindromic numbers up to 1000: [2, 3, 5, 7, 11, 101, 131, 151, 181, 191, 313, 353, 373, 383, 727, 757, 787, 797, 919, 929]\n"
          ]
        }
      ]
    }
  ]
}